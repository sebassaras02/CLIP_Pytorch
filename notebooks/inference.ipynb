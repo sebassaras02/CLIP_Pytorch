{
 "cells": [
  {
   "cell_type": "markdown",
   "metadata": {},
   "source": [
    "# Inference mode for CLIP experiments"
   ]
  },
  {
   "cell_type": "code",
   "execution_count": 150,
   "metadata": {},
   "outputs": [],
   "source": [
    "import numpy as np\n",
    "import pandas as pd\n",
    "import matplotlib.pyplot as plt\n",
    "from torch import load\n",
    "import mlflow"
   ]
  },
  {
   "cell_type": "code",
   "execution_count": 151,
   "metadata": {},
   "outputs": [
    {
     "name": "stderr",
     "output_type": "stream",
     "text": [
      "/var/folders/t1/1g6kqykj7pjbt9l4nwcplwz00000gn/T/ipykernel_10642/3602835336.py:1: FutureWarning: You are using `torch.load` with `weights_only=False` (the current default value), which uses the default pickle module implicitly. It is possible to construct malicious pickle data which will execute arbitrary code during unpickling (See https://github.com/pytorch/pytorch/blob/main/SECURITY.md#untrusted-models for more details). In a future release, the default value for `weights_only` will be flipped to `True`. This limits the functions that could be executed during unpickling. Arbitrary objects will no longer be allowed to be loaded via this mode unless they are explicitly allowlisted by the user via `torch.serialization.add_safe_globals`. We recommend you start setting `weights_only=True` for any use case where you don't have full control of the loaded file. Please open an issue on GitHub for any issues related to this experimental feature.\n",
      "  state_dc = load('/Users/sebastianalejandrosarastizambonino/Documents/projects/CLIP_Pytorch/src/best_model.pth')\n"
     ]
    }
   ],
   "source": [
    "state_dc = load('/Users/sebastianalejandrosarastizambonino/Documents/projects/CLIP_Pytorch/src/best_model.pth')"
   ]
  },
  {
   "cell_type": "markdown",
   "metadata": {},
   "source": [
    "Load the CLIP architecture"
   ]
  },
  {
   "cell_type": "code",
   "execution_count": 152,
   "metadata": {},
   "outputs": [
    {
     "name": "stdout",
     "output_type": "stream",
     "text": [
      "The autoreload extension is already loaded. To reload it, use:\n",
      "  %reload_ext autoreload\n"
     ]
    }
   ],
   "source": [
    "%load_ext autoreload\n",
    "%autoreload 2"
   ]
  },
  {
   "cell_type": "code",
   "execution_count": 153,
   "metadata": {},
   "outputs": [],
   "source": [
    "import sys\n",
    "\n",
    "sys.path.append('../src')"
   ]
  },
  {
   "cell_type": "code",
   "execution_count": 154,
   "metadata": {},
   "outputs": [],
   "source": [
    "from model import CLIPChemistryModel, TextEncoderHead, ImageEncoderHead"
   ]
  },
  {
   "cell_type": "code",
   "execution_count": 155,
   "metadata": {},
   "outputs": [],
   "source": [
    "from transformers import DistilBertModel, ViTModel, AutoModelForMaskedLM, ResNetModel"
   ]
  },
  {
   "cell_type": "code",
   "execution_count": 156,
   "metadata": {},
   "outputs": [
    {
     "name": "stderr",
     "output_type": "stream",
     "text": [
      "Some weights of the model checkpoint at seyonec/ChemBERTa-zinc-base-v1 were not used when initializing RobertaForMaskedLM: ['roberta.pooler.dense.bias', 'roberta.pooler.dense.weight']\n",
      "- This IS expected if you are initializing RobertaForMaskedLM from the checkpoint of a model trained on another task or with another architecture (e.g. initializing a BertForSequenceClassification model from a BertForPreTraining model).\n",
      "- This IS NOT expected if you are initializing RobertaForMaskedLM from the checkpoint of a model that you expect to be exactly identical (initializing a BertForSequenceClassification model from a BertForSequenceClassification model).\n",
      "huggingface/tokenizers: The current process just got forked, after parallelism has already been used. Disabling parallelism to avoid deadlocks...\n",
      "To disable this warning, you can either:\n",
      "\t- Avoid using `tokenizers` before the fork if possible\n",
      "\t- Explicitly set the environment variable TOKENIZERS_PARALLELISM=(true | false)\n",
      "Some weights of ViTModel were not initialized from the model checkpoint at google/vit-base-patch16-224 and are newly initialized: ['vit.pooler.dense.bias', 'vit.pooler.dense.weight']\n",
      "You should probably TRAIN this model on a down-stream task to be able to use it for predictions and inference.\n"
     ]
    }
   ],
   "source": [
    "ENCODER_BASE = AutoModelForMaskedLM.from_pretrained(\"seyonec/ChemBERTa-zinc-base-v1\")\n",
    "IMAGE_BASE = ViTModel.from_pretrained(\"google/vit-base-patch16-224\")\n",
    "text_encoder = TextEncoderHead(model=ENCODER_BASE)\n",
    "image_encoder = ImageEncoderHead(model=IMAGE_BASE)"
   ]
  },
  {
   "cell_type": "code",
   "execution_count": 157,
   "metadata": {},
   "outputs": [],
   "source": [
    "clip_model = CLIPChemistryModel(text_encoder=text_encoder, image_encoder=image_encoder)"
   ]
  },
  {
   "cell_type": "code",
   "execution_count": 158,
   "metadata": {},
   "outputs": [],
   "source": [
    "te_final = clip_model.text_encoder\n",
    "ie_final = clip_model.image_encoder"
   ]
  },
  {
   "cell_type": "markdown",
   "metadata": {},
   "source": [
    "Define a function to process the input"
   ]
  },
  {
   "cell_type": "code",
   "execution_count": 159,
   "metadata": {},
   "outputs": [],
   "source": [
    "from transformers import AutoTokenizer, ViTImageProcessor\n",
    "from io import BytesIO\n",
    "from PIL import Image\n",
    "\n",
    "def process_text_for_encoder(text, model):\n",
    "    tokenizer = AutoTokenizer.from_pretrained(\"seyonec/ChemBERTa-zinc-base-v1\")\n",
    "    encoded_input = tokenizer(text, return_tensors='pt', padding='max_length', truncation=True, max_length=256)\n",
    "    input_ids = encoded_input['input_ids']\n",
    "    attention_mask = encoded_input['attention_mask']\n",
    "    output = model(input_ids=input_ids, attention_mask=attention_mask)\n",
    "    return output.detach().numpy().tolist()[0]\n",
    "\n",
    "def process_image_for_encoder(image, model):\n",
    "    image = Image.open(BytesIO(image))\n",
    "    image_processor = ViTImageProcessor.from_pretrained(\"google/vit-base-patch16-224\")\n",
    "    image_tensor = image_processor(image, \n",
    "            return_tensors=\"pt\", \n",
    "            do_resize=True\n",
    "            )['pixel_values']\n",
    "    output =  model(pixel_values=image_tensor)\n",
    "    return output.detach().numpy().tolist()[0]"
   ]
  },
  {
   "cell_type": "markdown",
   "metadata": {},
   "source": [
    "Process the data"
   ]
  },
  {
   "cell_type": "code",
   "execution_count": 160,
   "metadata": {},
   "outputs": [],
   "source": [
    "df = pd.read_parquet(\"hf://datasets/VuongQuoc/Chemistry_text_to_image/data/train-00000-of-00001-f1f5b2eab68f0d2f.parquet\")"
   ]
  },
  {
   "cell_type": "markdown",
   "metadata": {},
   "source": [
    "Process the first 100 chemical compound"
   ]
  },
  {
   "cell_type": "code",
   "execution_count": 161,
   "metadata": {},
   "outputs": [],
   "source": [
    "text_embeddings = []\n",
    "for i in range(100):\n",
    "    text = df['text'].iloc[i]\n",
    "    output = process_text_for_encoder(text, model=te_final)\n",
    "    text_embeddings.append(output)"
   ]
  },
  {
   "cell_type": "markdown",
   "metadata": {},
   "source": [
    "Process the first 100 images"
   ]
  },
  {
   "cell_type": "code",
   "execution_count": 162,
   "metadata": {},
   "outputs": [],
   "source": [
    "image_embeddings = []\n",
    "for i in range(100):\n",
    "    image = df['image'].iloc[i]['bytes']\n",
    "    image_tensor = process_image_for_encoder(image, model=ie_final)\n",
    "    image_embeddings.append(output)"
   ]
  },
  {
   "cell_type": "markdown",
   "metadata": {},
   "source": [
    "Define a function to push embeddings to pinecone"
   ]
  },
  {
   "cell_type": "code",
   "execution_count": null,
   "metadata": {},
   "outputs": [],
   "source": [
    "import base64\n",
    "\n",
    "def bytes_to_str(bytes_data):\n",
    "    return base64.b64encode(bytes_data).decode('utf-8')\n",
    "\n",
    "def str_to_bytes(str_data):\n",
    "    return base64.b64decode(str_data)"
   ]
  },
  {
   "cell_type": "code",
   "execution_count": 181,
   "metadata": {},
   "outputs": [],
   "source": [
    "def push_embeddings_to_pine_cone(index, embeddings, df, mode, length):\n",
    "    records = []\n",
    "    for i in range(length):\n",
    "        if mode == 'text':\n",
    "            records.append({\n",
    "                \"id\": str(mode) + str(i), \n",
    "                \"values\": embeddings[i],\n",
    "                \"metadata\": {str(mode): df[mode].iloc[i]}})\n",
    "        elif mode == 'image':\n",
    "            records.append({\n",
    "                \"id\": str(mode) + str(i), \n",
    "                \"values\": embeddings[i],\n",
    "                \"metadata\": {str(mode): bytes_to_str(df[mode].iloc[i]['bytes'])}})\n",
    "        else:\n",
    "            raise ValueError(\"mode must be either 'text' or 'image'\")\n",
    "    \n",
    "    index.upsert(\n",
    "        vectors=records,\n",
    "        namespace=\"space-\" + mode\n",
    "    )"
   ]
  },
  {
   "cell_type": "code",
   "execution_count": 164,
   "metadata": {},
   "outputs": [],
   "source": [
    "from pinecone import Pinecone\n",
    "from dotenv import load_dotenv"
   ]
  },
  {
   "cell_type": "code",
   "execution_count": 165,
   "metadata": {},
   "outputs": [
    {
     "data": {
      "text/plain": [
       "True"
      ]
     },
     "execution_count": 165,
     "metadata": {},
     "output_type": "execute_result"
    }
   ],
   "source": [
    "load_dotenv('../.env')"
   ]
  },
  {
   "cell_type": "code",
   "execution_count": 166,
   "metadata": {},
   "outputs": [],
   "source": [
    "pc = Pinecone()\n",
    "index = pc.Index(\"clipmodel\")"
   ]
  },
  {
   "cell_type": "code",
   "execution_count": 168,
   "metadata": {},
   "outputs": [
    {
     "data": {
      "text/plain": [
       "1.230425477027893"
      ]
     },
     "execution_count": 168,
     "metadata": {},
     "output_type": "execute_result"
    }
   ],
   "source": [
    "text_embeddings[0][0]"
   ]
  },
  {
   "cell_type": "code",
   "execution_count": 169,
   "metadata": {},
   "outputs": [],
   "source": [
    "push_embeddings_to_pine_cone(index, text_embeddings, df, 'text', 100)"
   ]
  },
  {
   "cell_type": "code",
   "execution_count": 182,
   "metadata": {},
   "outputs": [],
   "source": [
    "push_embeddings_to_pine_cone(index, image_embeddings, df, 'image', 100)"
   ]
  },
  {
   "cell_type": "markdown",
   "metadata": {},
   "source": [
    "Make a function to make the similarity call"
   ]
  },
  {
   "cell_type": "code",
   "execution_count": null,
   "metadata": {},
   "outputs": [],
   "source": [
    "response = index.query(\n",
    "    namespace=\"ns1\",\n",
    "    vector=[0.1, 0.3],\n",
    "    top_k=2,\n",
    "    include_values=True,\n",
    "    include_metadata=True,\n",
    "    filter={\"genre\": {\"$eq\": \"action\"}}\n",
    ")"
   ]
  },
  {
   "cell_type": "code",
   "execution_count": 212,
   "metadata": {},
   "outputs": [],
   "source": [
    "def search_similarity(index, input, mode, top_k=5):\n",
    "    if mode == 'text':\n",
    "        output = process_text_for_encoder(input, model=te_final)\n",
    "    elif mode == 'image':\n",
    "        output = process_image_for_encoder(input, model=ie_final)\n",
    "    else:\n",
    "        raise ValueError(\"mode must be either 'text' or 'image'\")\n",
    "    \n",
    "    if mode == 'text':\n",
    "        mode_search = 'image'\n",
    "        response = index.query(\n",
    "            namespace=\"space-\" + mode_search,\n",
    "            vector=output,\n",
    "            top_k=top_k,\n",
    "            include_values=True,\n",
    "            include_metadata=True\n",
    "        )\n",
    "        similar_images = [value['metadata']['image'] for value in response['matches']]\n",
    "        return similar_images\n",
    "    elif mode == 'image':\n",
    "        mode_search = 'text'\n",
    "        response = index.query(\n",
    "            namespace=\"space-\" + mode_search,\n",
    "            vector=output,\n",
    "            top_k=top_k,\n",
    "            include_values=True,\n",
    "            include_metadata=True\n",
    "        )\n",
    "        similar_text = [value['metadata']['text'] for value in response['matches']]\n",
    "        return similar_text\n",
    "    else:\n",
    "        raise ValueError(\"mode must be either 'text' or 'image'\")"
   ]
  },
  {
   "cell_type": "markdown",
   "metadata": {},
   "source": [
    "Test Text-Image search"
   ]
  },
  {
   "cell_type": "code",
   "execution_count": 197,
   "metadata": {},
   "outputs": [],
   "source": [
    "results = search_similarity(\n",
    "    index=index,\n",
    "    input=df['text'].iloc[0],\n",
    "    mode='text',\n",
    "    top_k=5\n",
    ")"
   ]
  },
  {
   "cell_type": "code",
   "execution_count": 215,
   "metadata": {},
   "outputs": [
    {
     "data": {
      "text/plain": [
       "'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'"
      ]
     },
     "execution_count": 215,
     "metadata": {},
     "output_type": "execute_result"
    }
   ],
   "source": [
    "results[3]"
   ]
  },
  {
   "cell_type": "code",
   "execution_count": 202,
   "metadata": {},
   "outputs": [
    {
     "data": {
      "text/plain": [
       "<matplotlib.image.AxesImage at 0x145c172d0>"
      ]
     },
     "execution_count": 202,
     "metadata": {},
     "output_type": "execute_result"
    },
    {
     "data": {
      "image/png": "[encoded data removed]",
      "text/plain": [
       "<Figure size 640x480 with 1 Axes>"
      ]
     },
     "metadata": {},
     "output_type": "display_data"
    }
   ],
   "source": [
    "plt.imshow(Image.open(BytesIO(str_to_bytes(results[3]))))"
   ]
  },
  {
   "cell_type": "markdown",
   "metadata": {},
   "source": [
    "Test Image-Text search"
   ]
  },
  {
   "cell_type": "code",
   "execution_count": 204,
   "metadata": {},
   "outputs": [],
   "source": [
    "image = Image.open(BytesIO(df['image'].iloc[0]['bytes']))"
   ]
  },
  {
   "cell_type": "code",
   "execution_count": 213,
   "metadata": {},
   "outputs": [],
   "source": [
    "results2 = search_similarity(\n",
    "    index=index,\n",
    "    input=df['image'].iloc[0]['bytes'],\n",
    "    mode='image',\n",
    "    top_k=5\n",
    ")"
   ]
  },
  {
   "cell_type": "code",
   "execution_count": 214,
   "metadata": {},
   "outputs": [
    {
     "data": {
      "text/plain": [
       "['InChI=1S/C15H23BrN2O/c1-11(2)17-13-5-4-8-18(10-13)14-9-12(16)6-7-15(14)19-3/h6-7,9,11,13,17H,4-5,8,10H2,1-3H3',\n",
       " 'InChI=1S/C17H32N2O/c1-5-8-15-18-17(4,7-3)16(20)19(15)14-11-9-13(6-2)10-12-14/h13-15,18H,5-12H2,1-4H3',\n",
       " 'InChI=1S/C22H20F3N5O2/c1-26-21(32)14-5-3-13(4-6-14)18-12-28-20-19(27-9-2-10-31)29-16-11-15(22(23,24)25)7-8-17(16)30(18)20/h3-8,11-12,31H,2,9-10H2,1H3,(H,26,32)(H,27,29)',\n",
       " 'InChI=1S/C13H22N2O3/c1-4-14-8-15(7-12(14)16)13(17)11-5-9(2)18-10(3)6-11/h9-11H,4-8H2,1-3H3',\n",
       " 'InChI=1S/C19H26O2/c1-11-4-12(2)18(17(5-11)21-3)19(20)15-7-13-6-14(9-15)10-16(19)8-13/h4-5,13-16,20H,6-10H2,1-3H3']"
      ]
     },
     "execution_count": 214,
     "metadata": {},
     "output_type": "execute_result"
    }
   ],
   "source": [
    "results2"
   ]
  }
 ],
 "metadata": {
  "kernelspec": {
   "display_name": "clip",
   "language": "python",
   "name": "python3"
  },
  "language_info": {
   "codemirror_mode": {
    "name": "ipython",
    "version": 3
   },
   "file_extension": ".py",
   "mimetype": "text/x-python",
   "name": "python",
   "nbconvert_exporter": "python",
   "pygments_lexer": "ipython3",
   "version": "3.11.10"
  }
 },
 "nbformat": 4,
 "nbformat_minor": 2
}
